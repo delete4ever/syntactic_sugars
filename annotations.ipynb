{
 "cells": [
  {
   "cell_type": "code",
   "execution_count": 11,
   "metadata": {},
   "outputs": [],
   "source": [
    "class IdentifiableEntity(object):\n",
    "    def __init__(self, id):\n",
    "        self.id = id\n",
    "    def getId(self):\n",
    "        return self.id\n",
    "\n",
    "class Annotation(IdentifiableEntity): \n",
    "    def __init__(self, id, motivation, body, target):\n",
    "        self.motivation = motivation\n",
    "        self.body = body\n",
    "        self.target = target\n",
    "        super().__init__(id)\n",
    "    def getBody(self):\n",
    "        return Image\n",
    "    def getMotivation(self):\n",
    "        return self.motivation\n",
    "    def getTarget(self):\n",
    "        return IdentifiableEntity\n",
    "\n",
    "class Image(IdentifiableEntity):\n",
    "    pass\n"
   ]
  },
  {
   "cell_type": "code",
   "execution_count": null,
   "metadata": {},
   "outputs": [],
   "source": [
    "class Processor:\n",
    "    pass\n",
    "class AnnotationProcessor:\n",
    "    pass"
   ]
  }
 ],
 "metadata": {
  "kernelspec": {
   "display_name": "Python 3",
   "language": "python",
   "name": "python3"
  },
  "language_info": {
   "codemirror_mode": {
    "name": "ipython",
    "version": 3
   },
   "file_extension": ".py",
   "mimetype": "text/x-python",
   "name": "python",
   "nbconvert_exporter": "python",
   "pygments_lexer": "ipython3",
   "version": "3.10.8"
  },
  "orig_nbformat": 4
 },
 "nbformat": 4,
 "nbformat_minor": 2
}
