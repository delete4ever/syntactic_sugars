{
 "cells": [
  {
   "attachments": {},
   "cell_type": "markdown",
   "metadata": {},
   "source": [
    "### First UML Classes"
   ]
  },
  {
   "cell_type": "code",
   "execution_count": 2,
   "metadata": {},
   "outputs": [],
   "source": [
    "class IdentifiableEntity(object):\n",
    "    def __init__(self, id):\n",
    "        self.id = id\n",
    "    def getId(self):\n",
    "        return self.id\n",
    "\n",
    "class Annotation(IdentifiableEntity): \n",
    "    def __init__(self, id, motivation, body, target):\n",
    "        self.motivation = motivation\n",
    "        self.body = body\n",
    "        self.target = target\n",
    "        super().__init__(id)\n",
    "    def getBody(self):\n",
    "        return Image\n",
    "    def getMotivation(self):\n",
    "        return self.motivation\n",
    "    def getTarget(self):\n",
    "        return IdentifiableEntity\n",
    "\n",
    "class Image(IdentifiableEntity):\n",
    "    pass"
   ]
  },
  {
   "cell_type": "code",
   "execution_count": 3,
   "metadata": {},
   "outputs": [],
   "source": [
    "# class EntityWithMetadata(IdentifiableEntity):\n",
    "#     def __init__(self, id, label, title, creators):\n",
    "#         self.label = label \n",
    "#         self.title = title\n",
    "#         super().__init__(id)\n",
    "#         self.id = list()\n",
    "#         for creator in creators:\n",
    "#             self.id.append(creator)\n",
    "            \n",
    "\n",
    "#     def getLabel(self):\n",
    "#         return self.label\n",
    "#     def getTitle(self):\n",
    "#         if len(self.title) == 0:\n",
    "#             return None\n",
    "#         if len(self.title) == 1:\n",
    "#             return self.title\n",
    "#     def getCreators(self):\n",
    "#         return self.id\n"
   ]
  },
  {
   "attachments": {},
   "cell_type": "markdown",
   "metadata": {},
   "source": [
    "### Processor classes "
   ]
  },
  {
   "cell_type": "code",
   "execution_count": 43,
   "metadata": {},
   "outputs": [],
   "source": [
    "class Processor(object): #it needs to be modified\n",
    "    def __init__(self, dbPathOrUrl):\n",
    "        self.dbPathOrUrl = dbPathOrUrl\n",
    "        self.dbPathOrUrl = \"\"\n",
    "        \n",
    "    def setDbPathOrUrl(self, new_path):\n",
    "        self.dbPathOrUrl= new_path\n",
    "    def getDbPathOrUrl(self):\n",
    "        return self.dbPathOrUrl\n",
    "    \n",
    "class AnnotationProcessor(Processor):\n",
    "    def __init__(self, dbPathOrUrl):\n",
    "        super().__init__(dbPathOrUrl)\n",
    "\n",
    "    def uploadData(self, annotations): \n",
    "        pass\n",
    "        #annotations_path is the path of the csv annotation file\n",
    "        # this method allows to upload the csv contents into the database. \n"
   ]
  },
  {
   "attachments": {},
   "cell_type": "markdown",
   "metadata": {},
   "source": [
    "### Database Creation\n",
    "The following passages are the content of the uploadData method. I wanted to keep them separate now in order to be able to run them separately. "
   ]
  },
  {
   "cell_type": "code",
   "execution_count": 47,
   "metadata": {},
   "outputs": [],
   "source": [
    "from sqlite3 import connect\n",
    "with connect(\"relational.db\") as con:\n",
    "    con.commit() "
   ]
  },
  {
   "attachments": {},
   "cell_type": "markdown",
   "metadata": {},
   "source": [
    "### Tables Creation\n",
    "First, we need to convert the UML classes into dataframes, starting from the classes that do not have any subclasses. Then, we will use these tables to upload the data into the database. "
   ]
  },
  {
   "cell_type": "code",
   "execution_count": null,
   "metadata": {},
   "outputs": [],
   "source": [
    "from pandas import read_csv, Series\n",
    "\n",
    "annotations = read_csv(\"data/annotations.csv\", keep_default_na=False, dtype={\"id\":\"string\", \"body\":\"string\", \"target\":\"string\", \"motivation\":\"string\"})\n",
    "\n",
    "annotations_ids = annotations[[\"id\", \"body\", \"target\", \"motivation\"]]\n",
    "annotations_internal_id = []\n",
    "for idx, row in annotations_ids.iterrows():\n",
    "    annotations_internal_id.append(\"annotations-\" + str(idx))\n",
    "\n",
    "annotations_ids.insert(0, \"annotationsId\", Series(annotations_internal_id, dtype=\"string\"))\n",
    "annotations_ids\n"
   ]
  },
  {
   "cell_type": "code",
   "execution_count": null,
   "metadata": {},
   "outputs": [],
   "source": [
    "image_ids = annotations[[\"body\"]]\n",
    "image_ids = image_ids.rename(columns={\"body\": \"id\"})\n",
    "image_internal_id = []\n",
    "for idx, row in annotations_ids.iterrows():\n",
    "    image_internal_id.append(\"image-\" + str(idx))\n",
    "\n",
    "image_ids.insert(0, \"imageId\", Series(image_internal_id, dtype=\"string\"))\n",
    "image_ids"
   ]
  },
  {
   "cell_type": "code",
   "execution_count": null,
   "metadata": {},
   "outputs": [],
   "source": [
    "id_entity_ids = annotations[[\"target\"]]\n",
    "id_entity_ids = id_entity_ids.rename(columns={\"target\": \"id\"})\n",
    "id_entity_internal_id = []\n",
    "for idx, row in id_entity_ids.iterrows():\n",
    "    id_entity_internal_id.append(\"id_entity-\" + str(idx))\n",
    "\n",
    "id_entity_ids.insert(0, \"id_entityId\", Series(id_entity_internal_id, dtype=\"string\"))\n",
    "id_entity_ids"
   ]
  },
  {
   "attachments": {},
   "cell_type": "markdown",
   "metadata": {},
   "source": [
    "###\n",
    "I have decided to upload each table in the database separately for now, but i'll try to merge them together."
   ]
  },
  {
   "cell_type": "code",
   "execution_count": 51,
   "metadata": {},
   "outputs": [],
   "source": [
    "with connect(\"relational.db\") as con:\n",
    "    annotations_ids.to_sql(\"annotationsId\", con, if_exists=\"replace\", index=False)\n",
    "    image_ids.to_sql(\"imageId\", con, if_exists=\"replace\", index=False)\n",
    "    id_entity_ids.to_sql(\"id_entityId\", con, if_exists=\"replace\", index=False)"
   ]
  }
 ],
 "metadata": {
  "kernelspec": {
   "display_name": "Python 3",
   "language": "python",
   "name": "python3"
  },
  "language_info": {
   "codemirror_mode": {
    "name": "ipython",
    "version": 3
   },
   "file_extension": ".py",
   "mimetype": "text/x-python",
   "name": "python",
   "nbconvert_exporter": "python",
   "pygments_lexer": "ipython3",
   "version": "3.10.8"
  },
  "orig_nbformat": 4
 },
 "nbformat": 4,
 "nbformat_minor": 2
}
