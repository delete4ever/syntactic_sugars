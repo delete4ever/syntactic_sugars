{
 "cells": [
  {
   "cell_type": "code",
   "execution_count": 2,
   "metadata": {},
   "outputs": [],
   "source": [
    "from sqlite3 import connect\n",
    "from pandas import read_csv, Series\n",
    "\n",
    "class AnnotationProcessor(object): #to be modified with processor\n",
    "    def __init__(self, dbPathOrUrl):\n",
    "        super().__init__(dbPathOrUrl)\n",
    "\n",
    "    def uploadData(self, annotations): \n",
    "        with connect(\"relational.db\") as con:\n",
    "            con.commit() \n",
    "        \n",
    "        annotations = read_csv(\"data/annotations.csv\", keep_default_na=False, dtype={\"id\":\"string\", \"body\":\"string\", \"target\":\"string\", \"motivation\":\"string\"})\n",
    "\n",
    "        annotations_ids = annotations[[\"id\", \"body\", \"target\", \"motivation\"]]\n",
    "        annotations_ids = annotations_ids.rename(columns={\"id\": \"annotation\"})\n",
    "        annotations_internal_id = []\n",
    "        for idx, row in annotations_ids.iterrows():\n",
    "            annotations_internal_id.append(\"annotations-\" + str(idx))\n",
    "\n",
    "        annotations_ids.insert(0, \"annotationsId\", Series(annotations_internal_id, dtype=\"string\"))\n",
    "        \n",
    "        image_ids = annotations[[\"body\"]]\n",
    "        image_internal_id = []\n",
    "        for idx, row in annotations_ids.iterrows():\n",
    "            image_internal_id.append(\"image-\" + str(idx))\n",
    "\n",
    "        image_ids.insert(0, \"imageId\", Series(image_internal_id, dtype=\"string\"))\n",
    "        \n",
    "        partial_iden = annotations[[\"target\"]]\n",
    "        partial_iden = partial_iden.rename(columns={\"target\": \"id\"})\n",
    "        partial_iden_internal_id = []\n",
    "        for idx, row in partial_iden.iterrows():\n",
    "            partial_iden_internal_id.append(\"IdEn-\" + str(idx))\n",
    "\n",
    "        partial_iden.insert(0, \"partialId\", Series(partial_iden_internal_id, dtype=\"string\"))\n",
    "        \n",
    "        with connect(\"relational.db\") as con:\n",
    "            annotations_ids.to_sql(\"annotationsId\", con, if_exists=\"replace\", index=False)\n",
    "            image_ids.to_sql(\"imageId\", con, if_exists=\"replace\", index=False)\n",
    "            partial_iden.to_sql(\"id_entityId\", con, if_exists=\"replace\", index=False)"
   ]
  }
 ],
 "metadata": {
  "kernelspec": {
   "display_name": "Python 3",
   "language": "python",
   "name": "python3"
  },
  "language_info": {
   "codemirror_mode": {
    "name": "ipython",
    "version": 3
   },
   "file_extension": ".py",
   "mimetype": "text/x-python",
   "name": "python",
   "nbconvert_exporter": "python",
   "pygments_lexer": "ipython3",
   "version": "3.10.8"
  }
 },
 "nbformat": 4,
 "nbformat_minor": 5
}
