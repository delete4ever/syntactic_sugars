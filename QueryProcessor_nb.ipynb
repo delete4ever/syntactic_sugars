{
 "cells": [
  {
   "attachments": {},
   "cell_type": "markdown",
   "metadata": {},
   "source": [
    "### QueryProcessor\n",
    "This QueryProcessor is a middle class between Processor and the specific query processors for tabular and graph databases. It has just one method that retrieve the id, being this the only shared attribute between the two raw datasets.\n",
    "The ancillary function used for querying the Graph uses for SPARQL a package called `sparql_dataframe`, in particular the function get that takes as input the endpoint of the database, a query and a boolean calling an http POST method for the requests. The query calls for all the objects having the predicate `id`."
   ]
  },
  {
   "cell_type": "code",
   "execution_count": 55,
   "metadata": {},
   "outputs": [],
   "source": [
    "# This is a subclass of Processor, it serves the purpose of returning a\n",
    "# dataframe containing \n",
    "\n",
    "from processor import Processor\n",
    "from sparql_dataframe import get\n",
    "\n",
    "class QueryProcessor(Processor):\n",
    "    def __init__(self):\n",
    "        super(Processor).__init__()\n",
    "        self.dbPathorUrl = Processor.setdbPathorUrl\n",
    "    \n",
    "    def getEntitybyId(self, id):\n",
    "\n",
    "        def getfromGraph(id):\n",
    "            endpoint = self.dbPathorUrl\n",
    "\n",
    "            query = \"PREFIX sysu:<https://github.com/falaimo99/syntactic_sugars/vocabulary/> select ?e where {%s sysu:id ?e}\"%(id)\n",
    "\n",
    "            df_sparql = get(endpoint, query, True)\n",
    "            \n",
    "            return df_sparql\n",
    "        \n",
    "        def getfromTabular():\n",
    "            #insert code for tabular data\n",
    "            ###\n",
    "            pass\n",
    "\n",
    "        return getfromGraph(id)\n",
    "        return getfromTabular()\n",
    "    "
   ]
  },
  {
   "cell_type": "code",
   "execution_count": 57,
   "metadata": {},
   "outputs": [
    {
     "name": "stdout",
     "output_type": "stream",
     "text": [
      "                                                   e\n",
      "0  https://dl.ficlit.unibo.it/iiif/2/28429/canvas...\n"
     ]
    }
   ],
   "source": [
    "endpoint = \"http://127.0.0.1:9999/blazegraph/sparql\"\n",
    "q_processor = QueryProcessor()\n",
    "q_processor.setdbPathorUrl(endpoint)\n",
    "q_processor.getdbPathorUrl()\n",
    "\n",
    "#Test\n",
    "print(q_processor.getEntitybyId(\"<https://dl.ficlit.unibo.it/iiif/2/28429/canvas/p192>\"))"
   ]
  }
 ],
 "metadata": {
  "kernelspec": {
   "display_name": "Python 3",
   "language": "python",
   "name": "python3"
  },
  "language_info": {
   "codemirror_mode": {
    "name": "ipython",
    "version": 3
   },
   "file_extension": ".py",
   "mimetype": "text/x-python",
   "name": "python",
   "nbconvert_exporter": "python",
   "pygments_lexer": "ipython3",
   "version": "3.11.1"
  },
  "orig_nbformat": 4
 },
 "nbformat": 4,
 "nbformat_minor": 2
}
