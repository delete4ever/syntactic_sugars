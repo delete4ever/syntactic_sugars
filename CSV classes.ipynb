{
 "cells": [
  {
   "attachments": {},
   "cell_type": "markdown",
   "metadata": {},
   "source": [
    "### First UML Classes"
   ]
  },
  {
   "cell_type": "code",
   "execution_count": 2,
   "metadata": {},
   "outputs": [],
   "source": [
    "class IdentifiableEntity(object):\n",
    "    def __init__(self, id):\n",
    "        self.id = id\n",
    "    def getId(self):\n",
    "        return self.id\n",
    "\n",
    "class Annotation(IdentifiableEntity): \n",
    "    def __init__(self, id, motivation, body, target):\n",
    "        self.motivation = motivation\n",
    "        self.body = body\n",
    "        self.target = target\n",
    "        super().__init__(id)\n",
    "    def getBody(self):\n",
    "        return Image\n",
    "    def getMotivation(self):\n",
    "        return self.motivation\n",
    "    def getTarget(self):\n",
    "        return IdentifiableEntity\n",
    "\n",
    "class Image(IdentifiableEntity):\n",
    "    pass"
   ]
  },
  {
   "cell_type": "code",
   "execution_count": 3,
   "metadata": {},
   "outputs": [],
   "source": [
    "class EntityWithMetadata(IdentifiableEntity):\n",
    "    def __init__(self, id, label, title, creators):\n",
    "        self.label = label \n",
    "        self.title = title\n",
    "        super().__init__(id)\n",
    "        self.id = list()\n",
    "        for creator in creators:\n",
    "            self.id.append(creator)\n",
    "            \n",
    "\n",
    "    def getLabel(self):\n",
    "        return self.label\n",
    "    def getTitle(self):\n",
    "        if len(self.title) == 0:\n",
    "            return None\n",
    "        if len(self.title) == 1:\n",
    "            return self.title\n",
    "    def getCreators(self):\n",
    "        return self.id\n"
   ]
  },
  {
   "attachments": {},
   "cell_type": "markdown",
   "metadata": {},
   "source": [
    "### Processor classes "
   ]
  },
  {
   "cell_type": "code",
   "execution_count": 43,
   "metadata": {},
   "outputs": [],
   "source": [
    "class Processor(object): #it needs to be modified\n",
    "    def __init__(self, dbPathOrUrl):\n",
    "        self.dbPathOrUrl = dbPathOrUrl\n",
    "        self.dbPathOrUrl = \"\"\n",
    "        \n",
    "    def setDbPathOrUrl(self, new_path):\n",
    "        self.dbPathOrUrl= new_path\n",
    "        if new_path:\n",
    "            return True \n",
    "        else: \n",
    "            return False\n",
    "    def getDbPathOrUrl(self):\n",
    "        return self.dbPathOrUrl\n"
   ]
  }
 ],
 "metadata": {
  "kernelspec": {
   "display_name": "Python 3 (ipykernel)",
   "language": "python",
   "name": "python3"
  },
  "language_info": {
   "codemirror_mode": {
    "name": "ipython",
    "version": 3
   },
   "file_extension": ".py",
   "mimetype": "text/x-python",
   "name": "python",
   "nbconvert_exporter": "python",
   "pygments_lexer": "ipython3",
   "version": "3.10.8"
  }
 },
 "nbformat": 4,
 "nbformat_minor": 4
}
